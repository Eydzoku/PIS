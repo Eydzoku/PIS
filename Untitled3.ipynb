{
  "nbformat": 4,
  "nbformat_minor": 0,
  "metadata": {
    "colab": {
      "name": "Untitled3.ipynb",
      "provenance": [],
      "authorship_tag": "ABX9TyOK85JZDMNIOigIG7aY1zAX",
      "include_colab_link": true
    },
    "kernelspec": {
      "name": "python3",
      "display_name": "Python 3"
    },
    "language_info": {
      "name": "python"
    }
  },
  "cells": [
    {
      "cell_type": "markdown",
      "metadata": {
        "id": "view-in-github",
        "colab_type": "text"
      },
      "source": [
        "<a href=\"https://colab.research.google.com/github/Eydzoku/PIS/blob/Praktika/Untitled3.ipynb\" target=\"_parent\"><img src=\"https://colab.research.google.com/assets/colab-badge.svg\" alt=\"Open In Colab\"/></a>"
      ]
    },
    {
      "cell_type": "markdown",
      "metadata": {
        "id": "2Bz5VZQjors-"
      },
      "source": [
        "Пивень Константин Евгеньевич группа КИ19-22Б"
      ]
    },
    {
      "cell_type": "code",
      "metadata": {
        "id": "0p32Rgh-orzW",
        "colab": {
          "base_uri": "https://localhost:8080/"
        },
        "outputId": "9185cc0e-aff2-48b6-fd5c-b85c8ae68047"
      },
      "source": [
        "print(\"Helo world\")"
      ],
      "execution_count": null,
      "outputs": [
        {
          "output_type": "stream",
          "text": [
            "Helo world\n"
          ],
          "name": "stdout"
        }
      ]
    }
  ]
}